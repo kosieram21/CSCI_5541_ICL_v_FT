{
  "cells": [
    {
      "cell_type": "code",
      "execution_count": null,
      "metadata": {
        "id": "OEDnW5omfTcg"
      },
      "outputs": [],
      "source": [
        "!pip install pandas transformers[torch] datasets evaluate rouge_score POT torch peft wandb bitsandbytes sacrebleu"
      ]
    },
    {
      "cell_type": "code",
      "execution_count": null,
      "metadata": {
        "id": "_uQT1scmfkQ0"
      },
      "outputs": [],
      "source": [
        "!python experiment.py -approach FT -dataset DairAiEmotion -num_seeds 5"
      ]
    },
    {
      "cell_type": "code",
      "execution_count": null,
      "metadata": {
        "id": "v8Igt6JQfkYs"
      },
      "outputs": [],
      "source": [
        "!python experiment.py -approach ICL -dataset DairAiEmotion -num_seeds 5"
      ]
    },
    {
      "cell_type": "code",
      "execution_count": null,
      "metadata": {
        "id": "RrlDh_93fkhB"
      },
      "outputs": [],
      "source": [
        "!python experiment.py -approach FT -dataset ClimatebertClimateDetection -num_seeds 5"
      ]
    },
    {
      "cell_type": "code",
      "execution_count": null,
      "metadata": {
        "id": "o147C7MQfkob"
      },
      "outputs": [],
      "source": [
        "!python experiment.py -approach ICL -dataset ClimatebertClimateDetection -num_seeds 5"
      ]
    },
    {
      "cell_type": "code",
      "execution_count": null,
      "metadata": {
        "id": "kIrmf1o-fZ9_"
      },
      "outputs": [],
      "source": [
        "!python experiment.py -approach FT -dataset RottenTomatoes -num_seeds 5"
      ]
    },
    {
      "cell_type": "code",
      "execution_count": null,
      "metadata": {
        "id": "ji44ZWvsfc7c"
      },
      "outputs": [],
      "source": [
        "!python experiment.py -approach ICL -dataset RottenTomatoes -num_seeds 5"
      ]
    }
  ],
  "metadata": {
    "colab": {
      "provenance": []
    },
    "kernelspec": {
      "display_name": "Python 3",
      "name": "python3"
    },
    "language_info": {
      "name": "python"
    }
  },
  "nbformat": 4,
  "nbformat_minor": 0
}
