{
  "nbformat": 4,
  "nbformat_minor": 0,
  "metadata": {
    "colab": {
      "provenance": []
    },
    "kernelspec": {
      "name": "python3",
      "display_name": "Python 3"
    },
    "language_info": {
      "name": "python"
    }
  },
  "cells": [
    {
      "cell_type": "code",
      "execution_count": null,
      "metadata": {
        "id": "HVd-9KGYqDk_"
      },
      "outputs": [],
      "source": [
        "!pip install pandas transformers[torch] datasets evaluate rouge_score POT torch peft wandb bitsandbytes sacrebleu"
      ]
    },
    {
      "cell_type": "code",
      "source": [
        "!python experiment.py -approach FT -dataset PhilipMayStsbMultiMt -num_seeds 5"
      ],
      "metadata": {
        "id": "dyAmiK3zqESY"
      },
      "execution_count": null,
      "outputs": []
    },
    {
      "cell_type": "code",
      "source": [
        "!python experiment.py -approach ICL -dataset PhilipMayStsbMultiMt -num_seeds 5"
      ],
      "metadata": {
        "id": "M0xmwKmYqHNF"
      },
      "execution_count": null,
      "outputs": []
    },
    {
      "cell_type": "code",
      "source": [
        "!python experiment.py -approach FT -dataset Se2pCodeReadabilityMerged -num_seeds 5"
      ],
      "metadata": {
        "id": "Wey0-dvZqN6f"
      },
      "execution_count": null,
      "outputs": []
    },
    {
      "cell_type": "code",
      "source": [
        "!python experiment.py -approach ICL -dataset Se2pCodeReadabilityMerged -num_seeds 5"
      ],
      "metadata": {
        "id": "5QG4BJrFqTt-"
      },
      "execution_count": null,
      "outputs": []
    },
    {
      "cell_type": "code",
      "source": [
        "!python experiment.py -approach FT -dataset ZpnBaceRegression -num_seeds 5"
      ],
      "metadata": {
        "id": "3EDFwL64qWqQ"
      },
      "execution_count": null,
      "outputs": []
    },
    {
      "cell_type": "code",
      "source": [
        "!python experiment.py -approach ICL -dataset ZpnBaceRegression -num_seeds 5"
      ],
      "metadata": {
        "id": "dbTzrpngqegV"
      },
      "execution_count": null,
      "outputs": []
    }
  ]
}